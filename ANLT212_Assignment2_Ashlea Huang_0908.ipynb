{
 "cells": [
  {
   "cell_type": "code",
   "execution_count": 3,
   "metadata": {},
   "outputs": [],
   "source": [
    "Salary <-read.csv('/Users/AshleaHuang/Desktop/employee-compensation.csv',stringsAsFactor = F)"
   ]
  },
  {
   "cell_type": "code",
   "execution_count": 4,
   "metadata": {},
   "outputs": [
    {
     "data": {
      "text/html": [
       "<table>\n",
       "<caption>A data.frame: 10 × 22</caption>\n",
       "<thead>\n",
       "\t<tr><th scope=col>Year.Type</th><th scope=col>Year</th><th scope=col>Organization.Group.Code</th><th scope=col>Organization.Group</th><th scope=col>Department.Code</th><th scope=col>Department</th><th scope=col>Union.Code</th><th scope=col>Union</th><th scope=col>Job.Family.Code</th><th scope=col>Job.Family</th><th scope=col>⋯</th><th scope=col>Employee.Identifier</th><th scope=col>Salaries</th><th scope=col>Overtime</th><th scope=col>Other.Salaries</th><th scope=col>Total.Salary</th><th scope=col>Retirement</th><th scope=col>Health.and.Dental</th><th scope=col>Other.Benefits</th><th scope=col>Total.Benefits</th><th scope=col>Total.Compensation</th></tr>\n",
       "\t<tr><th scope=col>&lt;chr&gt;</th><th scope=col>&lt;int&gt;</th><th scope=col>&lt;int&gt;</th><th scope=col>&lt;chr&gt;</th><th scope=col>&lt;chr&gt;</th><th scope=col>&lt;chr&gt;</th><th scope=col>&lt;int&gt;</th><th scope=col>&lt;chr&gt;</th><th scope=col>&lt;chr&gt;</th><th scope=col>&lt;chr&gt;</th><th scope=col>⋯</th><th scope=col>&lt;int&gt;</th><th scope=col>&lt;dbl&gt;</th><th scope=col>&lt;dbl&gt;</th><th scope=col>&lt;dbl&gt;</th><th scope=col>&lt;dbl&gt;</th><th scope=col>&lt;dbl&gt;</th><th scope=col>&lt;dbl&gt;</th><th scope=col>&lt;dbl&gt;</th><th scope=col>&lt;dbl&gt;</th><th scope=col>&lt;dbl&gt;</th></tr>\n",
       "</thead>\n",
       "<tbody>\n",
       "\t<tr><td>Calendar</td><td>2028</td><td>7</td><td>General City Responsibilities</td><td>229259</td><td></td><td>792</td><td>Utd Pub EmpL790 SEIU-Crt Clrks</td><td>0000</td><td>Untitled                 </td><td>⋯</td><td>8540990</td><td>   674.28</td><td>     0.00</td><td>    5.76</td><td>   680.04</td><td>  130.91</td><td>    0.00</td><td>   53.86</td><td>  184.77</td><td>   864.81</td></tr>\n",
       "\t<tr><td>Calendar</td><td>2028</td><td>1</td><td>Public Protection            </td><td>CRT   </td><td></td><td>792</td><td>Utd Pub EmpL790 SEIU-Crt Clrks</td><td>0000</td><td>Untitled                 </td><td>⋯</td><td>8540990</td><td>   674.28</td><td>     0.00</td><td>    5.76</td><td>   680.04</td><td>  130.91</td><td>    0.00</td><td>   53.86</td><td>  184.77</td><td>   864.81</td></tr>\n",
       "\t<tr><td>Fiscal  </td><td>2028</td><td>1</td><td>Public Protection            </td><td>CRT   </td><td></td><td>792</td><td>Utd Pub EmpL790 SEIU-Crt Clrks</td><td>0000</td><td>Untitled                 </td><td>⋯</td><td>8540990</td><td>   674.28</td><td>     0.00</td><td>    5.76</td><td>   680.04</td><td>  130.91</td><td>    0.00</td><td>   53.86</td><td>  184.77</td><td>   864.81</td></tr>\n",
       "\t<tr><td>Calendar</td><td>2019</td><td>7</td><td>General City Responsibilities</td><td>232108</td><td></td><td>911</td><td>POA                           </td><td>Q000</td><td>Police Services          </td><td>⋯</td><td>8577148</td><td>124709.01</td><td>100499.62</td><td> 5501.78</td><td>230710.41</td><td>23271.86</td><td>14293.60</td><td> 3934.00</td><td>55975.56</td><td>286685.97</td></tr>\n",
       "\t<tr><td>Calendar</td><td>2019</td><td>1</td><td><span style=white-space:pre-wrap>Public Protection            </span></td><td><span style=white-space:pre-wrap>DAT   </span></td><td></td><td>311</td><td><span style=white-space:pre-wrap>Municipal Attorneys Assoc     </span></td><td>8100</td><td><span style=white-space:pre-wrap>Legal &amp; Court            </span></td><td>⋯</td><td>8603109</td><td>155489.01</td><td><span style=white-space:pre-wrap>     0.00</span></td><td> 1500.00</td><td>156989.01</td><td>29239.75</td><td>14308.46</td><td>11100.60</td><td>69326.83</td><td>226315.84</td></tr>\n",
       "\t<tr><td>Calendar</td><td>2019</td><td>7</td><td>General City Responsibilities</td><td>102644</td><td></td><td>130</td><td>Auto Machinist, Local 1414    </td><td>7300</td><td>Journeyman Trade         </td><td>⋯</td><td>8547213</td><td> 69490.84</td><td> 34969.05</td><td>13344.53</td><td>117804.42</td><td>16424.93</td><td>14308.44</td><td> 9651.75</td><td>48573.42</td><td>166377.84</td></tr>\n",
       "\t<tr><td>Calendar</td><td>2019</td><td>7</td><td>General City Responsibilities</td><td><span style=white-space:pre-wrap>DEM   </span></td><td></td><td>790</td><td><span style=white-space:pre-wrap>SEIU, Local 1021, Misc        </span></td><td>8200</td><td>Protection &amp; Apprehension</td><td>⋯</td><td>8544058</td><td> 57062.72</td><td><span style=white-space:pre-wrap>  6033.18</span></td><td> 1192.00</td><td> 64287.90</td><td>11851.05</td><td>14308.40</td><td> 5473.16</td><td>33664.43</td><td> 97952.33</td></tr>\n",
       "\t<tr><td>Calendar</td><td>2019</td><td>7</td><td>General City Responsibilities</td><td>102644</td><td></td><td>253</td><td>TWU, Local 250-A, TransitOpr  </td><td>9100</td><td>Street Transit           </td><td>⋯</td><td>8504938</td><td> 74231.85</td><td> 22440.63</td><td> 3619.49</td><td>100291.97</td><td>14778.60</td><td>14634.18</td><td> 7600.99</td><td>52233.11</td><td>152525.08</td></tr>\n",
       "\t<tr><td>Calendar</td><td>2019</td><td>4</td><td>Community Health             </td><td>DPH   </td><td></td><td>858</td><td>Teamsters, Local 856, Spv RN  </td><td>2300</td><td>Nursing                  </td><td>⋯</td><td>8559329</td><td> 22348.10</td><td>  5032.61</td><td> 1755.83</td><td> 29136.54</td><td> 4488.15</td><td>    0.00</td><td> 1739.06</td><td> 6227.21</td><td> 35363.75</td></tr>\n",
       "\t<tr><td>Calendar</td><td>2019</td><td>1</td><td>Public Protection            </td><td>POL   </td><td></td><td>911</td><td>POA                           </td><td>Q000</td><td>Police Services          </td><td>⋯</td><td>8506973</td><td>     0.00</td><td>  2911.35</td><td>    0.00</td><td>  2911.35</td><td>    0.00</td><td>    0.00</td><td>    0.00</td><td>    0.00</td><td>  2911.35</td></tr>\n",
       "</tbody>\n",
       "</table>\n"
      ],
      "text/latex": [
       "A data.frame: 10 × 22\n",
       "\\begin{tabular}{r|llllllllllllllllllllll}\n",
       " Year.Type & Year & Organization.Group.Code & Organization.Group & Department.Code & Department & Union.Code & Union & Job.Family.Code & Job.Family & Job.Code & Job & Employee.Identifier & Salaries & Overtime & Other.Salaries & Total.Salary & Retirement & Health.and.Dental & Other.Benefits & Total.Benefits & Total.Compensation\\\\\n",
       " <chr> & <int> & <int> & <chr> & <chr> & <chr> & <int> & <chr> & <chr> & <chr> & <chr> & <chr> & <int> & <dbl> & <dbl> & <dbl> & <dbl> & <dbl> & <dbl> & <dbl> & <dbl> & <dbl>\\\\\n",
       "\\hline\n",
       "\t Calendar & 2028 & 7 & General City Responsibilities & 229259 &  & 792 & Utd Pub EmpL790 SEIU-Crt Clrks & 0000 & Untitled                  & 420C & Deputy Court Clerk II     & 8540990 &    674.28 &      0.00 &     5.76 &    680.04 &   130.91 &     0.00 &    53.86 &   184.77 &    864.81\\\\\n",
       "\t Calendar & 2028 & 1 & Public Protection             & CRT    &  & 792 & Utd Pub EmpL790 SEIU-Crt Clrks & 0000 & Untitled                  & 420C & Deputy Court Clerk II     & 8540990 &    674.28 &      0.00 &     5.76 &    680.04 &   130.91 &     0.00 &    53.86 &   184.77 &    864.81\\\\\n",
       "\t Fiscal   & 2028 & 1 & Public Protection             & CRT    &  & 792 & Utd Pub EmpL790 SEIU-Crt Clrks & 0000 & Untitled                  & 420C & Deputy Court Clerk II     & 8540990 &    674.28 &      0.00 &     5.76 &    680.04 &   130.91 &     0.00 &    53.86 &   184.77 &    864.81\\\\\n",
       "\t Calendar & 2019 & 7 & General City Responsibilities & 232108 &  & 911 & POA                            & Q000 & Police Services           & Q004 & Police Officer 3          & 8577148 & 124709.01 & 100499.62 &  5501.78 & 230710.41 & 23271.86 & 14293.60 &  3934.00 & 55975.56 & 286685.97\\\\\n",
       "\t Calendar & 2019 & 1 & Public Protection             & DAT    &  & 311 & Municipal Attorneys Assoc      & 8100 & Legal \\& Court             & 8177 & Attorney (Civil/Criminal) & 8603109 & 155489.01 &      0.00 &  1500.00 & 156989.01 & 29239.75 & 14308.46 & 11100.60 & 69326.83 & 226315.84\\\\\n",
       "\t Calendar & 2019 & 7 & General City Responsibilities & 102644 &  & 130 & Auto Machinist, Local 1414     & 7300 & Journeyman Trade          & 7313 & Automotive Machinist      & 8547213 &  69490.84 &  34969.05 & 13344.53 & 117804.42 & 16424.93 & 14308.44 &  9651.75 & 48573.42 & 166377.84\\\\\n",
       "\t Calendar & 2019 & 7 & General City Responsibilities & DEM    &  & 790 & SEIU, Local 1021, Misc         & 8200 & Protection \\& Apprehension & 8238 & Public SafetyComm Disp    & 8544058 &  57062.72 &   6033.18 &  1192.00 &  64287.90 & 11851.05 & 14308.40 &  5473.16 & 33664.43 &  97952.33\\\\\n",
       "\t Calendar & 2019 & 7 & General City Responsibilities & 102644 &  & 253 & TWU, Local 250-A, TransitOpr   & 9100 & Street Transit            & 9163 & Transit Operator          & 8504938 &  74231.85 &  22440.63 &  3619.49 & 100291.97 & 14778.60 & 14634.18 &  7600.99 & 52233.11 & 152525.08\\\\\n",
       "\t Calendar & 2019 & 4 & Community Health              & DPH    &  & 858 & Teamsters, Local 856, Spv RN   & 2300 & Nursing                   & 2324 & Nursing Supervisor        & 8559329 &  22348.10 &   5032.61 &  1755.83 &  29136.54 &  4488.15 &     0.00 &  1739.06 &  6227.21 &  35363.75\\\\\n",
       "\t Calendar & 2019 & 1 & Public Protection             & POL    &  & 911 & POA                            & Q000 & Police Services           & Q062 & Lieutenant 3              & 8506973 &      0.00 &   2911.35 &     0.00 &   2911.35 &     0.00 &     0.00 &     0.00 &     0.00 &   2911.35\\\\\n",
       "\\end{tabular}\n"
      ],
      "text/markdown": [
       "\n",
       "A data.frame: 10 × 22\n",
       "\n",
       "| Year.Type &lt;chr&gt; | Year &lt;int&gt; | Organization.Group.Code &lt;int&gt; | Organization.Group &lt;chr&gt; | Department.Code &lt;chr&gt; | Department &lt;chr&gt; | Union.Code &lt;int&gt; | Union &lt;chr&gt; | Job.Family.Code &lt;chr&gt; | Job.Family &lt;chr&gt; | ⋯ ⋯ | Employee.Identifier &lt;int&gt; | Salaries &lt;dbl&gt; | Overtime &lt;dbl&gt; | Other.Salaries &lt;dbl&gt; | Total.Salary &lt;dbl&gt; | Retirement &lt;dbl&gt; | Health.and.Dental &lt;dbl&gt; | Other.Benefits &lt;dbl&gt; | Total.Benefits &lt;dbl&gt; | Total.Compensation &lt;dbl&gt; |\n",
       "|---|---|---|---|---|---|---|---|---|---|---|---|---|---|---|---|---|---|---|---|---|\n",
       "| Calendar | 2028 | 7 | General City Responsibilities | 229259 | <!----> | 792 | Utd Pub EmpL790 SEIU-Crt Clrks | 0000 | Untitled                  | ⋯ | 8540990 |    674.28 |      0.00 |     5.76 |    680.04 |   130.91 |     0.00 |    53.86 |   184.77 |    864.81 |\n",
       "| Calendar | 2028 | 1 | Public Protection             | CRT    | <!----> | 792 | Utd Pub EmpL790 SEIU-Crt Clrks | 0000 | Untitled                  | ⋯ | 8540990 |    674.28 |      0.00 |     5.76 |    680.04 |   130.91 |     0.00 |    53.86 |   184.77 |    864.81 |\n",
       "| Fiscal   | 2028 | 1 | Public Protection             | CRT    | <!----> | 792 | Utd Pub EmpL790 SEIU-Crt Clrks | 0000 | Untitled                  | ⋯ | 8540990 |    674.28 |      0.00 |     5.76 |    680.04 |   130.91 |     0.00 |    53.86 |   184.77 |    864.81 |\n",
       "| Calendar | 2019 | 7 | General City Responsibilities | 232108 | <!----> | 911 | POA                            | Q000 | Police Services           | ⋯ | 8577148 | 124709.01 | 100499.62 |  5501.78 | 230710.41 | 23271.86 | 14293.60 |  3934.00 | 55975.56 | 286685.97 |\n",
       "| Calendar | 2019 | 1 | Public Protection             | DAT    | <!----> | 311 | Municipal Attorneys Assoc      | 8100 | Legal &amp; Court             | ⋯ | 8603109 | 155489.01 |      0.00 |  1500.00 | 156989.01 | 29239.75 | 14308.46 | 11100.60 | 69326.83 | 226315.84 |\n",
       "| Calendar | 2019 | 7 | General City Responsibilities | 102644 | <!----> | 130 | Auto Machinist, Local 1414     | 7300 | Journeyman Trade          | ⋯ | 8547213 |  69490.84 |  34969.05 | 13344.53 | 117804.42 | 16424.93 | 14308.44 |  9651.75 | 48573.42 | 166377.84 |\n",
       "| Calendar | 2019 | 7 | General City Responsibilities | DEM    | <!----> | 790 | SEIU, Local 1021, Misc         | 8200 | Protection &amp; Apprehension | ⋯ | 8544058 |  57062.72 |   6033.18 |  1192.00 |  64287.90 | 11851.05 | 14308.40 |  5473.16 | 33664.43 |  97952.33 |\n",
       "| Calendar | 2019 | 7 | General City Responsibilities | 102644 | <!----> | 253 | TWU, Local 250-A, TransitOpr   | 9100 | Street Transit            | ⋯ | 8504938 |  74231.85 |  22440.63 |  3619.49 | 100291.97 | 14778.60 | 14634.18 |  7600.99 | 52233.11 | 152525.08 |\n",
       "| Calendar | 2019 | 4 | Community Health              | DPH    | <!----> | 858 | Teamsters, Local 856, Spv RN   | 2300 | Nursing                   | ⋯ | 8559329 |  22348.10 |   5032.61 |  1755.83 |  29136.54 |  4488.15 |     0.00 |  1739.06 |  6227.21 |  35363.75 |\n",
       "| Calendar | 2019 | 1 | Public Protection             | POL    | <!----> | 911 | POA                            | Q000 | Police Services           | ⋯ | 8506973 |      0.00 |   2911.35 |     0.00 |   2911.35 |     0.00 |     0.00 |     0.00 |     0.00 |   2911.35 |\n",
       "\n"
      ],
      "text/plain": [
       "   Year.Type Year Organization.Group.Code Organization.Group           \n",
       "1  Calendar  2028 7                       General City Responsibilities\n",
       "2  Calendar  2028 1                       Public Protection            \n",
       "3  Fiscal    2028 1                       Public Protection            \n",
       "4  Calendar  2019 7                       General City Responsibilities\n",
       "5  Calendar  2019 1                       Public Protection            \n",
       "6  Calendar  2019 7                       General City Responsibilities\n",
       "7  Calendar  2019 7                       General City Responsibilities\n",
       "8  Calendar  2019 7                       General City Responsibilities\n",
       "9  Calendar  2019 4                       Community Health             \n",
       "10 Calendar  2019 1                       Public Protection            \n",
       "   Department.Code Department Union.Code Union                         \n",
       "1  229259                     792        Utd Pub EmpL790 SEIU-Crt Clrks\n",
       "2  CRT                        792        Utd Pub EmpL790 SEIU-Crt Clrks\n",
       "3  CRT                        792        Utd Pub EmpL790 SEIU-Crt Clrks\n",
       "4  232108                     911        POA                           \n",
       "5  DAT                        311        Municipal Attorneys Assoc     \n",
       "6  102644                     130        Auto Machinist, Local 1414    \n",
       "7  DEM                        790        SEIU, Local 1021, Misc        \n",
       "8  102644                     253        TWU, Local 250-A, TransitOpr  \n",
       "9  DPH                        858        Teamsters, Local 856, Spv RN  \n",
       "10 POL                        911        POA                           \n",
       "   Job.Family.Code Job.Family                ⋯ Employee.Identifier Salaries \n",
       "1  0000            Untitled                  ⋯ 8540990                674.28\n",
       "2  0000            Untitled                  ⋯ 8540990                674.28\n",
       "3  0000            Untitled                  ⋯ 8540990                674.28\n",
       "4  Q000            Police Services           ⋯ 8577148             124709.01\n",
       "5  8100            Legal & Court             ⋯ 8603109             155489.01\n",
       "6  7300            Journeyman Trade          ⋯ 8547213              69490.84\n",
       "7  8200            Protection & Apprehension ⋯ 8544058              57062.72\n",
       "8  9100            Street Transit            ⋯ 8504938              74231.85\n",
       "9  2300            Nursing                   ⋯ 8559329              22348.10\n",
       "10 Q000            Police Services           ⋯ 8506973                  0.00\n",
       "   Overtime  Other.Salaries Total.Salary Retirement Health.and.Dental\n",
       "1       0.00     5.76          680.04      130.91       0.00         \n",
       "2       0.00     5.76          680.04      130.91       0.00         \n",
       "3       0.00     5.76          680.04      130.91       0.00         \n",
       "4  100499.62  5501.78       230710.41    23271.86   14293.60         \n",
       "5       0.00  1500.00       156989.01    29239.75   14308.46         \n",
       "6   34969.05 13344.53       117804.42    16424.93   14308.44         \n",
       "7    6033.18  1192.00        64287.90    11851.05   14308.40         \n",
       "8   22440.63  3619.49       100291.97    14778.60   14634.18         \n",
       "9    5032.61  1755.83        29136.54     4488.15       0.00         \n",
       "10   2911.35     0.00         2911.35        0.00       0.00         \n",
       "   Other.Benefits Total.Benefits Total.Compensation\n",
       "1     53.86         184.77          864.81         \n",
       "2     53.86         184.77          864.81         \n",
       "3     53.86         184.77          864.81         \n",
       "4   3934.00       55975.56       286685.97         \n",
       "5  11100.60       69326.83       226315.84         \n",
       "6   9651.75       48573.42       166377.84         \n",
       "7   5473.16       33664.43        97952.33         \n",
       "8   7600.99       52233.11       152525.08         \n",
       "9   1739.06        6227.21        35363.75         \n",
       "10     0.00           0.00         2911.35         "
      ]
     },
     "metadata": {},
     "output_type": "display_data"
    }
   ],
   "source": [
    "head(Salary, n=10)"
   ]
  },
  {
   "cell_type": "code",
   "execution_count": null,
   "metadata": {},
   "outputs": [],
   "source": []
  }
 ],
 "metadata": {
  "kernelspec": {
   "display_name": "R",
   "language": "R",
   "name": "ir"
  },
  "language_info": {
   "codemirror_mode": "r",
   "file_extension": ".r",
   "mimetype": "text/x-r-source",
   "name": "R",
   "pygments_lexer": "r",
   "version": "3.6.1"
  }
 },
 "nbformat": 4,
 "nbformat_minor": 2
}
